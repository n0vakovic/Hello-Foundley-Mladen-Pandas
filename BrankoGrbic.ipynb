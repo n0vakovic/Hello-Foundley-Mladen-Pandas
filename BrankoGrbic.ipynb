{
 "cells": [
  {
   "cell_type": "code",
   "execution_count": 1,
   "id": "driving-patio",
   "metadata": {},
   "outputs": [
    {
     "name": "stdout",
     "output_type": "stream",
     "text": [
      "Hello Foundley, recently Mladen told Branko that there exist function that can sort list in Python in O(NlogN)!!!\n",
      "And he told him that he can try to sort 5000 random numbers with his favorite Bubble Sort, but he will still outplay him with 1000000 random numbers and his hybrid sorting algorithm\n",
      "Branko didn't believe him, he said that Bubble sort is the fastest algorithm known to human kind\n",
      "Let's see who will win!\n",
      "Branko's time was:  1.024853229522705\n",
      "Mladen's time was:  0.17044520378112793\n"
     ]
    },
    {
     "data": {
      "image/png": "[encoded data removed]",
      "text/plain": [
       "<Figure size 432x288 with 1 Axes>"
      ]
     },
     "metadata": {
      "needs_background": "light"
     },
     "output_type": "display_data"
    },
    {
     "name": "stdout",
     "output_type": "stream",
     "text": [
      "Well, Mladen took the victory, but only this time..\n"
     ]
    }
   ],
   "source": [
    "import pandas as pd\n",
    "import time\n",
    "import matplotlib.pyplot as plt\n",
    "import random\n",
    "\n",
    "\"\"\"\n",
    "Work time of this program is ~3.4s just to show a bigger difference in O(N^2) and O(NlogN) algorithms, sorry :D\n",
    "\"\"\"\n",
    "\n",
    "print(\"Hello Foundley, recently Mladen told Branko that there exist function that can sort list in Python in O(NlogN)!!!\")\n",
    "print(\"And he told him that he can try to sort 5000 random numbers with his favorite Bubble Sort, \",end='')\n",
    "print(\"but he will still outplay him with 1000000 random numbers and his hybrid sorting algorithm\")\n",
    "\n",
    "# Sorting will be in ascending order #\n",
    "# Creating two lists with equal elements to sort, one for Branko's Bubble sort and one for Mladen's python built-in sort #\n",
    "N_branko = 5000\n",
    "N_mladen = 1000000\n",
    "branko_list = []\n",
    "mladen_list = []\n",
    "\n",
    "# Creating arrays #\n",
    "for i in range(N_mladen):\n",
    "    x = random.randint(1,1000)\n",
    "    if (i<N_branko):\n",
    "        branko_list.append(x)\n",
    "    mladen_list.append(x)\n",
    "\n",
    "print(\"Branko didn't believe him, he said that Bubble sort is the fastest algorithm known to human kind\")\n",
    "print(\"Let's see who will win!\")\n",
    "\n",
    "# Here comes the Bubble sort #\n",
    "def bubbleSort(niz, N):\n",
    "    for i in range(N):\n",
    "        for j in range(i+1,N):\n",
    "            if (niz[j] > niz[i]):\n",
    "                niz[j], niz[i] = niz[i], niz[j]\n",
    "\n",
    "branko_start = time.time()\n",
    "bubbleSort(branko_list,N_branko)\n",
    "branko_end = time.time()\n",
    "\n",
    "branko_time = branko_end - branko_start\n",
    "\n",
    "# Now Mladen's sort #\n",
    "mladen_start = time.time()\n",
    "mladen_list.sort()\n",
    "mladen_end = time.time()\n",
    "\n",
    "mladen_time = mladen_end - mladen_start\n",
    "\n",
    "print(\"Branko's time was: \",branko_time)\n",
    "print(\"Mladen's time was: \",mladen_time)\n",
    "\n",
    "# Printing the results.. BubbleSort must be winning #\n",
    "results = {}\n",
    "results[\"Branko\"] = branko_time\n",
    "results[\"Mladen\"] = mladen_time\n",
    "grafik = pd.Series(results)\n",
    "grafik.plot(kind = 'barh', title = 'Sorting: Mladen vs Branko')\n",
    "plt.xlabel('Time [s]')\n",
    "plt.show()\n",
    "\n",
    "print(\"Well, Mladen took the victory, but only this time..\")\n",
    "# To be continued... #"
   ]
  },
  {
   "cell_type": "code",
   "execution_count": null,
   "id": "reasonable-article",
   "metadata": {},
   "outputs": [],
   "source": []
  }
 ],
 "metadata": {
  "kernelspec": {
   "display_name": "Python 3",
   "language": "python",
   "name": "python3"
  },
  "language_info": {
   "codemirror_mode": {
    "name": "ipython",
    "version": 3
   },
   "file_extension": ".py",
   "mimetype": "text/x-python",
   "name": "python",
   "nbconvert_exporter": "python",
   "pygments_lexer": "ipython3",
   "version": "3.7.8"
  }
 },
 "nbformat": 4,
 "nbformat_minor": 5
}
