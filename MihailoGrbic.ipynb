{
 "cells": [
  {
   "cell_type": "code",
   "execution_count": 1,
   "metadata": {},
   "outputs": [],
   "source": [
    "import matplotlib.pyplot as plt\n",
    "import numpy as np\n",
    "import pandas as pd\n",
    "\n",
    "plt.style.use('dark_background')"
   ]
  },
  {
   "cell_type": "code",
   "execution_count": 2,
   "metadata": {},
   "outputs": [
    {
     "name": "stdout",
     "output_type": "stream",
     "text": [
      "Mladen and Mihailo had a task to collect student's grades based on their IQ. Some of the data is shown bellow.\n",
      "Looking at data, it seems like they examined different groups of students.\n"
     ]
    },
    {
     "data": {
      "text/html": [
       "<div>\n",
       "<style scoped>\n",
       "    .dataframe tbody tr th:only-of-type {\n",
       "        vertical-align: middle;\n",
       "    }\n",
       "\n",
       "    .dataframe tbody tr th {\n",
       "        vertical-align: top;\n",
       "    }\n",
       "\n",
       "    .dataframe thead th {\n",
       "        text-align: right;\n",
       "    }\n",
       "</style>\n",
       "<table border=\"1\" class=\"dataframe\">\n",
       "  <thead>\n",
       "    <tr style=\"text-align: right;\">\n",
       "      <th></th>\n",
       "      <th>IQ</th>\n",
       "      <th>GPA</th>\n",
       "      <th>Collector</th>\n",
       "    </tr>\n",
       "  </thead>\n",
       "  <tbody>\n",
       "    <tr>\n",
       "      <th>0</th>\n",
       "      <td>92.069846</td>\n",
       "      <td>7.569027</td>\n",
       "      <td>Mihailo</td>\n",
       "    </tr>\n",
       "    <tr>\n",
       "      <th>1</th>\n",
       "      <td>120.051469</td>\n",
       "      <td>9.257703</td>\n",
       "      <td>Mladen</td>\n",
       "    </tr>\n",
       "    <tr>\n",
       "      <th>2</th>\n",
       "      <td>98.507704</td>\n",
       "      <td>7.763603</td>\n",
       "      <td>Mihailo</td>\n",
       "    </tr>\n",
       "    <tr>\n",
       "      <th>3</th>\n",
       "      <td>121.606422</td>\n",
       "      <td>9.190186</td>\n",
       "      <td>Mladen</td>\n",
       "    </tr>\n",
       "    <tr>\n",
       "      <th>4</th>\n",
       "      <td>95.894722</td>\n",
       "      <td>7.762499</td>\n",
       "      <td>Mihailo</td>\n",
       "    </tr>\n",
       "    <tr>\n",
       "      <th>5</th>\n",
       "      <td>118.488979</td>\n",
       "      <td>9.275360</td>\n",
       "      <td>Mladen</td>\n",
       "    </tr>\n",
       "    <tr>\n",
       "      <th>6</th>\n",
       "      <td>90.029010</td>\n",
       "      <td>7.466545</td>\n",
       "      <td>Mihailo</td>\n",
       "    </tr>\n",
       "    <tr>\n",
       "      <th>7</th>\n",
       "      <td>117.152449</td>\n",
       "      <td>9.372149</td>\n",
       "      <td>Mladen</td>\n",
       "    </tr>\n",
       "    <tr>\n",
       "      <th>8</th>\n",
       "      <td>91.033543</td>\n",
       "      <td>7.404689</td>\n",
       "      <td>Mihailo</td>\n",
       "    </tr>\n",
       "    <tr>\n",
       "      <th>9</th>\n",
       "      <td>119.608803</td>\n",
       "      <td>9.350207</td>\n",
       "      <td>Mladen</td>\n",
       "    </tr>\n",
       "  </tbody>\n",
       "</table>\n",
       "</div>"
      ],
      "text/plain": [
       "           IQ       GPA Collector\n",
       "0   92.069846  7.569027   Mihailo\n",
       "1  120.051469  9.257703    Mladen\n",
       "2   98.507704  7.763603   Mihailo\n",
       "3  121.606422  9.190186    Mladen\n",
       "4   95.894722  7.762499   Mihailo\n",
       "5  118.488979  9.275360    Mladen\n",
       "6   90.029010  7.466545   Mihailo\n",
       "7  117.152449  9.372149    Mladen\n",
       "8   91.033543  7.404689   Mihailo\n",
       "9  119.608803  9.350207    Mladen"
      ]
     },
     "execution_count": 2,
     "metadata": {},
     "output_type": "execute_result"
    }
   ],
   "source": [
    "print(\"Mladen and Mihailo had a task to collect student's grades based on their IQ. Some of the data is shown bellow.\")\n",
    "\n",
    "df = pd.DataFrame(columns=['IQ','GPA', 'Collector'])\n",
    "row = 0\n",
    "\n",
    "for i in range(1, 30):\n",
    "    IQ = 90 + 10*np.random.rand()\n",
    "    GPA = max(7 + np.random.rand(), 6)\n",
    "    df.loc[row] = [IQ, GPA, \"Mihailo\"]\n",
    "    row += 1\n",
    "    \n",
    "    IQ = 115 + 10*np.random.rand()\n",
    "    GPA = min(9 + np.random.rand(), 10)\n",
    "    df.loc[row] = [IQ, GPA, \"Mladen\"]\n",
    "    row += 1\n",
    "    \n",
    "print(\"Looking at data, it seems like they examined different groups of students.\")\n",
    "df.head(10)"
   ]
  },
  {
   "cell_type": "code",
   "execution_count": 3,
   "metadata": {},
   "outputs": [
    {
     "name": "stdout",
     "output_type": "stream",
     "text": [
      "Foundley found it interesting and wished to determine his belonging, but he gets confused when it comes to raw data and visualization helps him understand it.\n"
     ]
    },
    {
     "data": {
      "image/png": "[encoded data removed]",
      "text/plain": [
       "<Figure size 576x576 with 1 Axes>"
      ]
     },
     "metadata": {},
     "output_type": "display_data"
    }
   ],
   "source": [
    "print(\"Foundley found it interesting and wished to determine his belonging, but he gets confused when it comes to raw data and visualization helps him understand it.\")\n",
    "\n",
    "plt.figure(figsize=(8,8))\n",
    "plt.scatter(df[\"IQ\"].loc[df[\"Collector\"] == \"Mihailo\"], df[\"GPA\"].loc[df[\"Collector\"] == \"Mihailo\"] )\n",
    "plt.scatter(df[\"IQ\"].loc[df[\"Collector\"] == \"Mladen\"], df[\"GPA\"].loc[df[\"Collector\"] == \"Mladen\"] )\n",
    "plt.legend([\"Mihailo's data\", \"Mladen's data\"])\n",
    "plt.xlabel(\"IQ\")\n",
    "plt.ylabel(\"GPA\")\n",
    "plt.title(\"Student's GPA based on their IQ\")\n",
    "plt.show()"
   ]
  },
  {
   "cell_type": "code",
   "execution_count": 4,
   "metadata": {},
   "outputs": [
    {
     "name": "stdout",
     "output_type": "stream",
     "text": [
      "Still, Foundley is not sure where he belongs, so he gave his information to data scientist and he came back with some results.\n"
     ]
    },
    {
     "data": {
      "image/png": "[encoded data removed]",
      "text/plain": [
       "<Figure size 576x576 with 1 Axes>"
      ]
     },
     "metadata": {},
     "output_type": "display_data"
    }
   ],
   "source": [
    "print(\"Still, Foundley is not sure where he belongs, so he gave his information to data scientist and he came back with some results.\")\n",
    "\n",
    "Foundley = pd.DataFrame(columns=[\"IQ\",\"GPA\"])\n",
    "Foundley.loc[0] = [117, 8.9]\n",
    "\n",
    "plt.figure(figsize=(8,8))\n",
    "plt.scatter(df[\"IQ\"].loc[df[\"Collector\"] == \"Mihailo\"], df[\"GPA\"].loc[df[\"Collector\"] == \"Mihailo\"] )\n",
    "plt.scatter(df[\"IQ\"].loc[df[\"Collector\"] == \"Mladen\"], df[\"GPA\"].loc[df[\"Collector\"] == \"Mladen\"] )\n",
    "plt.scatter(Foundley[\"IQ\"], Foundley[\"GPA\"] )\n",
    "plt.legend([\"Mihailo's data\", \"Mladen's data\", \"Foundley's data\"])\n",
    "plt.xlabel(\"IQ\")\n",
    "plt.ylabel(\"GPA\")\n",
    "plt.title(\"Student's GPA based on their IQ with Foundley\")\n",
    "plt.show()"
   ]
  },
  {
   "cell_type": "code",
   "execution_count": 5,
   "metadata": {},
   "outputs": [
    {
     "name": "stdout",
     "output_type": "stream",
     "text": [
      "Although results are pretty much obvious, data scientist felt obligation to make a formal decision for him.\n",
      "First, he replaced Mladen's and Mihailo's names with numerical values.\n"
     ]
    },
    {
     "data": {
      "text/html": [
       "<div>\n",
       "<style scoped>\n",
       "    .dataframe tbody tr th:only-of-type {\n",
       "        vertical-align: middle;\n",
       "    }\n",
       "\n",
       "    .dataframe tbody tr th {\n",
       "        vertical-align: top;\n",
       "    }\n",
       "\n",
       "    .dataframe thead th {\n",
       "        text-align: right;\n",
       "    }\n",
       "</style>\n",
       "<table border=\"1\" class=\"dataframe\">\n",
       "  <thead>\n",
       "    <tr style=\"text-align: right;\">\n",
       "      <th></th>\n",
       "      <th>IQ</th>\n",
       "      <th>GPA</th>\n",
       "      <th>Collector</th>\n",
       "    </tr>\n",
       "  </thead>\n",
       "  <tbody>\n",
       "    <tr>\n",
       "      <th>0</th>\n",
       "      <td>92.069846</td>\n",
       "      <td>7.569027</td>\n",
       "      <td>0</td>\n",
       "    </tr>\n",
       "    <tr>\n",
       "      <th>1</th>\n",
       "      <td>120.051469</td>\n",
       "      <td>9.257703</td>\n",
       "      <td>1</td>\n",
       "    </tr>\n",
       "    <tr>\n",
       "      <th>2</th>\n",
       "      <td>98.507704</td>\n",
       "      <td>7.763603</td>\n",
       "      <td>0</td>\n",
       "    </tr>\n",
       "    <tr>\n",
       "      <th>3</th>\n",
       "      <td>121.606422</td>\n",
       "      <td>9.190186</td>\n",
       "      <td>1</td>\n",
       "    </tr>\n",
       "    <tr>\n",
       "      <th>4</th>\n",
       "      <td>95.894722</td>\n",
       "      <td>7.762499</td>\n",
       "      <td>0</td>\n",
       "    </tr>\n",
       "    <tr>\n",
       "      <th>5</th>\n",
       "      <td>118.488979</td>\n",
       "      <td>9.275360</td>\n",
       "      <td>1</td>\n",
       "    </tr>\n",
       "    <tr>\n",
       "      <th>6</th>\n",
       "      <td>90.029010</td>\n",
       "      <td>7.466545</td>\n",
       "      <td>0</td>\n",
       "    </tr>\n",
       "    <tr>\n",
       "      <th>7</th>\n",
       "      <td>117.152449</td>\n",
       "      <td>9.372149</td>\n",
       "      <td>1</td>\n",
       "    </tr>\n",
       "    <tr>\n",
       "      <th>8</th>\n",
       "      <td>91.033543</td>\n",
       "      <td>7.404689</td>\n",
       "      <td>0</td>\n",
       "    </tr>\n",
       "    <tr>\n",
       "      <th>9</th>\n",
       "      <td>119.608803</td>\n",
       "      <td>9.350207</td>\n",
       "      <td>1</td>\n",
       "    </tr>\n",
       "  </tbody>\n",
       "</table>\n",
       "</div>"
      ],
      "text/plain": [
       "           IQ       GPA  Collector\n",
       "0   92.069846  7.569027          0\n",
       "1  120.051469  9.257703          1\n",
       "2   98.507704  7.763603          0\n",
       "3  121.606422  9.190186          1\n",
       "4   95.894722  7.762499          0\n",
       "5  118.488979  9.275360          1\n",
       "6   90.029010  7.466545          0\n",
       "7  117.152449  9.372149          1\n",
       "8   91.033543  7.404689          0\n",
       "9  119.608803  9.350207          1"
      ]
     },
     "execution_count": 5,
     "metadata": {},
     "output_type": "execute_result"
    }
   ],
   "source": [
    "print(\"Although results are pretty much obvious, data scientist felt obligation to make a formal decision for him.\")\n",
    "\n",
    "print(\"First, he replaced Mladen's and Mihailo's names with numerical values.\")\n",
    "df_numerical = df.replace({\"Collector\" : {\"Mladen\" : 1, \"Mihailo\" : 0}})\n",
    "df_numerical.head(10)"
   ]
  },
  {
   "cell_type": "code",
   "execution_count": 6,
   "metadata": {},
   "outputs": [
    {
     "name": "stdout",
     "output_type": "stream",
     "text": [
      "Then he concluded based on visualization that problem is linearly separable, so he tought that Support Vector Machine can make decision for him.\n",
      "After building a simple model, Foundley can be sure that he belongs to Mladen's group\n"
     ]
    }
   ],
   "source": [
    "print(\"Then he concluded based on visualization that problem is linearly separable, so he tought that Support Vector Machine can make decision for him.\")\n",
    "\n",
    "from sklearn.svm import SVC\n",
    "\n",
    "# Creating a model\n",
    "model = SVC(kernel='linear')\n",
    "\n",
    "# Train model on available dataset\n",
    "model.fit(df_numerical[[\"IQ\", \"GPA\"]], df_numerical[\"Collector\"])\n",
    "\n",
    "# Make prediction\n",
    "prediction = model.predict(Foundley)\n",
    "\n",
    "\n",
    "if prediction == 1:\n",
    "    print(\"After building a simple model, Foundley can be sure that he belongs to Mladen's group\")\n",
    "elif prediction == 0:\n",
    "    print(\"After building a simple model, Foundley can be sure that he belongs to Mihailo's group\")"
   ]
  }
 ],
 "metadata": {
  "kernelspec": {
   "display_name": "Python 3",
   "language": "python",
   "name": "python3"
  },
  "language_info": {
   "codemirror_mode": {
    "name": "ipython",
    "version": 3
   },
   "file_extension": ".py",
   "mimetype": "text/x-python",
   "name": "python",
   "nbconvert_exporter": "python",
   "pygments_lexer": "ipython3",
   "version": "3.6.8"
  }
 },
 "nbformat": 4,
 "nbformat_minor": 4
}
